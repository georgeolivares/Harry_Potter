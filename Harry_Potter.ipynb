{
 "cells": [
  {
   "cell_type": "markdown",
   "metadata": {},
   "source": [
    "# Harry Potter dataset"
   ]
  },
  {
   "cell_type": "markdown",
   "metadata": {},
   "source": [
    "### Import/setup libraries"
   ]
  },
  {
   "cell_type": "code",
   "execution_count": 107,
   "metadata": {},
   "outputs": [],
   "source": [
    "# Pandas\n",
    "import pandas as pd\n",
    "\n",
    "# Graph libraries\n",
    "import seaborn as sns\n",
    "\n",
    "import matplotlib.pyplot as plt\n",
    "import matplotlib.mlab as mlab\n",
    "import matplotlib\n",
    "plt.style.use('ggplot')\n",
    "from matplotlib.pyplot import figure"
   ]
  },
  {
   "cell_type": "markdown",
   "metadata": {},
   "source": [
    "### Read CSVs"
   ]
  },
  {
   "cell_type": "code",
   "execution_count": 45,
   "metadata": {},
   "outputs": [],
   "source": [
    "# ParserError: Error tokenizing data. C error: Expected 2 fields in line 10, saw 3\n",
    "    # df = pd.read_csv('C:\\\\Users\\\\jorge\\\\Documents\\\\GitHub\\\\Harry_Potter\\\\Harry Potter 1.csv')\n",
    "\n",
    "# Sep=None solves this error\n",
    "# Read characters csv\n",
    "df_characters = pd.read_csv('C:\\\\Users\\\\jorge\\\\Documents\\\\GitHub\\\\Harry_Potter\\\\Characters.csv',engine='python' , sep=None)\n",
    "\n",
    "df_harrypotter1 = pd.read_csv('C:\\\\Users\\\\jorge\\\\Documents\\\\GitHub\\\\Harry_Potter\\\\Harry Potter 1.csv',engine='python' , sep=None)\n",
    "\n",
    "df_harrypotter2 = pd.read_csv('C:\\\\Users\\\\jorge\\\\Documents\\\\GitHub\\\\Harry_Potter\\\\Harry Potter 2.csv',engine='python' , sep=None)\n",
    "\n",
    "df_harrypotter3 = pd.read_csv('C:\\\\Users\\\\jorge\\\\Documents\\\\GitHub\\\\Harry_Potter\\\\Harry Potter 3.csv',engine='python' , sep=None)\n",
    "\n",
    "df_potions = pd.read_csv('C:\\\\Users\\\\jorge\\\\Documents\\\\GitHub\\\\Harry_Potter\\\\Potions.csv',engine='python' , sep=None)\n",
    "\n",
    "df_shortversioncharacter = pd.read_csv('C:\\\\Users\\\\jorge\\\\Documents\\\\GitHub\\\\Harry_Potter\\\\shortversioncharacters.csv',engine='python' , sep=None)\n",
    "\n",
    "df_spells = pd.read_csv('C:\\\\Users\\\\jorge\\\\Documents\\\\GitHub\\\\Harry_Potter\\\\Spells.csv',engine='python' , sep=None)"
   ]
  },
  {
   "cell_type": "markdown",
   "metadata": {},
   "source": [
    "### Short version characters\n",
    "This one contains the name of the actor for each one of the characters.<br>\n",
    "'Characters' csv does not contain the name of the actor."
   ]
  },
  {
   "cell_type": "code",
   "execution_count": 54,
   "metadata": {},
   "outputs": [
    {
     "data": {
      "text/html": [
       "<div>\n",
       "<style scoped>\n",
       "    .dataframe tbody tr th:only-of-type {\n",
       "        vertical-align: middle;\n",
       "    }\n",
       "\n",
       "    .dataframe tbody tr th {\n",
       "        vertical-align: top;\n",
       "    }\n",
       "\n",
       "    .dataframe thead th {\n",
       "        text-align: right;\n",
       "    }\n",
       "</style>\n",
       "<table border=\"1\" class=\"dataframe\">\n",
       "  <thead>\n",
       "    <tr style=\"text-align: right;\">\n",
       "      <th></th>\n",
       "      <th>name</th>\n",
       "      <th>species</th>\n",
       "      <th>gender</th>\n",
       "      <th>house</th>\n",
       "      <th>dateOfBirth</th>\n",
       "      <th>yearOfBirth</th>\n",
       "      <th>ancestry</th>\n",
       "      <th>eyeColour</th>\n",
       "      <th>hairColour</th>\n",
       "      <th>wand</th>\n",
       "      <th>patronus</th>\n",
       "      <th>hogwartsStudent</th>\n",
       "      <th>hogwartsStaff</th>\n",
       "      <th>actor</th>\n",
       "      <th>alive</th>\n",
       "      <th>image</th>\n",
       "    </tr>\n",
       "  </thead>\n",
       "  <tbody>\n",
       "    <tr>\n",
       "      <th>0</th>\n",
       "      <td>Harry Potter</td>\n",
       "      <td>human</td>\n",
       "      <td>male</td>\n",
       "      <td>Gryffindor</td>\n",
       "      <td>31-07-1980</td>\n",
       "      <td>1980.0</td>\n",
       "      <td>half-blood</td>\n",
       "      <td>green</td>\n",
       "      <td>black</td>\n",
       "      <td>{'wood': 'holly', 'core': 'phoenix feather', '...</td>\n",
       "      <td>stag</td>\n",
       "      <td>True</td>\n",
       "      <td>False</td>\n",
       "      <td>Daniel Radcliffe</td>\n",
       "      <td>True</td>\n",
       "      <td>http://hp-api.herokuapp.com/images/harry.jpg</td>\n",
       "    </tr>\n",
       "    <tr>\n",
       "      <th>1</th>\n",
       "      <td>Hermione Granger</td>\n",
       "      <td>human</td>\n",
       "      <td>female</td>\n",
       "      <td>Gryffindor</td>\n",
       "      <td>19-09-1979</td>\n",
       "      <td>1979.0</td>\n",
       "      <td>muggleborn</td>\n",
       "      <td>brown</td>\n",
       "      <td>brown</td>\n",
       "      <td>{'wood': 'vine', 'core': 'dragon heartstring',...</td>\n",
       "      <td>otter</td>\n",
       "      <td>True</td>\n",
       "      <td>False</td>\n",
       "      <td>Emma Watson</td>\n",
       "      <td>True</td>\n",
       "      <td>http://hp-api.herokuapp.com/images/hermione.jpeg</td>\n",
       "    </tr>\n",
       "  </tbody>\n",
       "</table>\n",
       "</div>"
      ],
      "text/plain": [
       "               name species  gender       house dateOfBirth  yearOfBirth  \\\n",
       "0      Harry Potter   human    male  Gryffindor  31-07-1980       1980.0   \n",
       "1  Hermione Granger   human  female  Gryffindor  19-09-1979       1979.0   \n",
       "\n",
       "     ancestry eyeColour hairColour  \\\n",
       "0  half-blood     green      black   \n",
       "1  muggleborn     brown      brown   \n",
       "\n",
       "                                                wand patronus  \\\n",
       "0  {'wood': 'holly', 'core': 'phoenix feather', '...     stag   \n",
       "1  {'wood': 'vine', 'core': 'dragon heartstring',...    otter   \n",
       "\n",
       "   hogwartsStudent  hogwartsStaff             actor  alive  \\\n",
       "0             True          False  Daniel Radcliffe   True   \n",
       "1             True          False       Emma Watson   True   \n",
       "\n",
       "                                              image  \n",
       "0      http://hp-api.herokuapp.com/images/harry.jpg  \n",
       "1  http://hp-api.herokuapp.com/images/hermione.jpeg  "
      ]
     },
     "execution_count": 54,
     "metadata": {},
     "output_type": "execute_result"
    }
   ],
   "source": [
    "# Top 5 rows Short Version Character\n",
    "\n",
    "df_shortversioncharacter.head(2)"
   ]
  },
  {
   "cell_type": "markdown",
   "metadata": {},
   "source": [
    "### Characters csv overview\n",
    "Contains each of the characters characteristics.<br>\n",
    "From name to patronus."
   ]
  },
  {
   "cell_type": "code",
   "execution_count": 53,
   "metadata": {},
   "outputs": [
    {
     "data": {
      "text/html": [
       "<div>\n",
       "<style scoped>\n",
       "    .dataframe tbody tr th:only-of-type {\n",
       "        vertical-align: middle;\n",
       "    }\n",
       "\n",
       "    .dataframe tbody tr th {\n",
       "        vertical-align: top;\n",
       "    }\n",
       "\n",
       "    .dataframe thead th {\n",
       "        text-align: right;\n",
       "    }\n",
       "</style>\n",
       "<table border=\"1\" class=\"dataframe\">\n",
       "  <thead>\n",
       "    <tr style=\"text-align: right;\">\n",
       "      <th></th>\n",
       "      <th>﻿Id</th>\n",
       "      <th>Name</th>\n",
       "      <th>Gender</th>\n",
       "      <th>Job</th>\n",
       "      <th>House</th>\n",
       "      <th>Wand</th>\n",
       "      <th>Patronus</th>\n",
       "      <th>Species</th>\n",
       "      <th>Blood status</th>\n",
       "      <th>Hair colour</th>\n",
       "      <th>Eye colour</th>\n",
       "      <th>Loyalty</th>\n",
       "      <th>Skills</th>\n",
       "      <th>Birth</th>\n",
       "      <th>Death</th>\n",
       "    </tr>\n",
       "  </thead>\n",
       "  <tbody>\n",
       "    <tr>\n",
       "      <th>0</th>\n",
       "      <td>1</td>\n",
       "      <td>Harry James Potter</td>\n",
       "      <td>Male</td>\n",
       "      <td>Student</td>\n",
       "      <td>Gryffindor</td>\n",
       "      <td>11\"  Holly  phoenix feather</td>\n",
       "      <td>Stag</td>\n",
       "      <td>Human</td>\n",
       "      <td>Half-blood</td>\n",
       "      <td>Black</td>\n",
       "      <td>Bright green</td>\n",
       "      <td>Albus Dumbledore | Dumbledore's Army | Order o...</td>\n",
       "      <td>Parseltongue| Defence Against the Dark Arts | ...</td>\n",
       "      <td>31 July 1980</td>\n",
       "      <td>NaN</td>\n",
       "    </tr>\n",
       "    <tr>\n",
       "      <th>1</th>\n",
       "      <td>2</td>\n",
       "      <td>Ronald Bilius Weasley</td>\n",
       "      <td>Male</td>\n",
       "      <td>Student</td>\n",
       "      <td>Gryffindor</td>\n",
       "      <td>12\" Ash unicorn tail hair</td>\n",
       "      <td>Jack Russell terrier</td>\n",
       "      <td>Human</td>\n",
       "      <td>Pure-blood</td>\n",
       "      <td>Red</td>\n",
       "      <td>Blue</td>\n",
       "      <td>Dumbledore's Army | Order of the Phoenix | Hog...</td>\n",
       "      <td>Wizard chess | Quidditch goalkeeping</td>\n",
       "      <td>1 March 1980</td>\n",
       "      <td>NaN</td>\n",
       "    </tr>\n",
       "    <tr>\n",
       "      <th>2</th>\n",
       "      <td>3</td>\n",
       "      <td>Hermione Jean Granger</td>\n",
       "      <td>Female</td>\n",
       "      <td>Student</td>\n",
       "      <td>Gryffindor</td>\n",
       "      <td>10¾\"  vine wood dragon heartstring</td>\n",
       "      <td>Otter</td>\n",
       "      <td>Human</td>\n",
       "      <td>Muggle-born</td>\n",
       "      <td>Brown</td>\n",
       "      <td>Brown</td>\n",
       "      <td>Dumbledore's Army | Order of the Phoenix | Hog...</td>\n",
       "      <td>Almost everything</td>\n",
       "      <td>19 September, 1979</td>\n",
       "      <td>NaN</td>\n",
       "    </tr>\n",
       "  </tbody>\n",
       "</table>\n",
       "</div>"
      ],
      "text/plain": [
       "   ﻿Id                   Name  Gender      Job       House  \\\n",
       "0    1     Harry James Potter    Male  Student  Gryffindor   \n",
       "1    2  Ronald Bilius Weasley    Male  Student  Gryffindor   \n",
       "2    3  Hermione Jean Granger  Female  Student  Gryffindor   \n",
       "\n",
       "                                 Wand              Patronus Species  \\\n",
       "0         11\"  Holly  phoenix feather                  Stag   Human   \n",
       "1          12\" Ash unicorn tail hair   Jack Russell terrier   Human   \n",
       "2  10¾\"  vine wood dragon heartstring                 Otter   Human   \n",
       "\n",
       "  Blood status Hair colour    Eye colour  \\\n",
       "0   Half-blood       Black  Bright green   \n",
       "1   Pure-blood         Red          Blue   \n",
       "2  Muggle-born       Brown         Brown   \n",
       "\n",
       "                                             Loyalty  \\\n",
       "0  Albus Dumbledore | Dumbledore's Army | Order o...   \n",
       "1  Dumbledore's Army | Order of the Phoenix | Hog...   \n",
       "2  Dumbledore's Army | Order of the Phoenix | Hog...   \n",
       "\n",
       "                                              Skills               Birth Death  \n",
       "0  Parseltongue| Defence Against the Dark Arts | ...        31 July 1980   NaN  \n",
       "1               Wizard chess | Quidditch goalkeeping        1 March 1980   NaN  \n",
       "2                                  Almost everything  19 September, 1979   NaN  "
      ]
     },
     "execution_count": 53,
     "metadata": {},
     "output_type": "execute_result"
    }
   ],
   "source": [
    "# Dataframe belongs to characters CSV\n",
    "\n",
    "df_characters.head(3)"
   ]
  },
  {
   "cell_type": "code",
   "execution_count": 29,
   "metadata": {},
   "outputs": [
    {
     "data": {
      "text/plain": [
       "(140, 15)"
      ]
     },
     "execution_count": 29,
     "metadata": {},
     "output_type": "execute_result"
    }
   ],
   "source": [
    "# Rows and columns in Characters csv\n",
    "\n",
    "df_characters.shape"
   ]
  },
  {
   "cell_type": "code",
   "execution_count": 30,
   "metadata": {},
   "outputs": [
    {
     "data": {
      "text/plain": [
       "Index(['﻿Id', 'Name', 'Gender', 'Job', 'House', 'Wand', 'Patronus', 'Species',\n",
       "       'Blood status', 'Hair colour', 'Eye colour', 'Loyalty', 'Skills',\n",
       "       'Birth', 'Death'],\n",
       "      dtype='object')"
      ]
     },
     "execution_count": 30,
     "metadata": {},
     "output_type": "execute_result"
    }
   ],
   "source": [
    "# Columns in df_charact\n",
    "\n",
    "df_characters.columns"
   ]
  },
  {
   "cell_type": "code",
   "execution_count": 14,
   "metadata": {},
   "outputs": [
    {
     "data": {
      "text/html": [
       "<div>\n",
       "<style scoped>\n",
       "    .dataframe tbody tr th:only-of-type {\n",
       "        vertical-align: middle;\n",
       "    }\n",
       "\n",
       "    .dataframe tbody tr th {\n",
       "        vertical-align: top;\n",
       "    }\n",
       "\n",
       "    .dataframe thead th {\n",
       "        text-align: right;\n",
       "    }\n",
       "</style>\n",
       "<table border=\"1\" class=\"dataframe\">\n",
       "  <thead>\n",
       "    <tr style=\"text-align: right;\">\n",
       "      <th></th>\n",
       "      <th>﻿Id</th>\n",
       "      <th>Name</th>\n",
       "      <th>Gender</th>\n",
       "      <th>Job</th>\n",
       "      <th>House</th>\n",
       "      <th>Wand</th>\n",
       "      <th>Patronus</th>\n",
       "      <th>Species</th>\n",
       "      <th>Blood status</th>\n",
       "      <th>Hair colour</th>\n",
       "      <th>Eye colour</th>\n",
       "      <th>Loyalty</th>\n",
       "      <th>Skills</th>\n",
       "      <th>Birth</th>\n",
       "      <th>Death</th>\n",
       "    </tr>\n",
       "  </thead>\n",
       "  <tbody>\n",
       "    <tr>\n",
       "      <th>0</th>\n",
       "      <td>1</td>\n",
       "      <td>Harry James Potter</td>\n",
       "      <td>Male</td>\n",
       "      <td>Student</td>\n",
       "      <td>Gryffindor</td>\n",
       "      <td>11\"  Holly  phoenix feather</td>\n",
       "      <td>Stag</td>\n",
       "      <td>Human</td>\n",
       "      <td>Half-blood</td>\n",
       "      <td>Black</td>\n",
       "      <td>Bright green</td>\n",
       "      <td>Albus Dumbledore | Dumbledore's Army | Order o...</td>\n",
       "      <td>Parseltongue| Defence Against the Dark Arts | ...</td>\n",
       "      <td>31 July 1980</td>\n",
       "      <td>NaN</td>\n",
       "    </tr>\n",
       "    <tr>\n",
       "      <th>1</th>\n",
       "      <td>2</td>\n",
       "      <td>Ronald Bilius Weasley</td>\n",
       "      <td>Male</td>\n",
       "      <td>Student</td>\n",
       "      <td>Gryffindor</td>\n",
       "      <td>12\" Ash unicorn tail hair</td>\n",
       "      <td>Jack Russell terrier</td>\n",
       "      <td>Human</td>\n",
       "      <td>Pure-blood</td>\n",
       "      <td>Red</td>\n",
       "      <td>Blue</td>\n",
       "      <td>Dumbledore's Army | Order of the Phoenix | Hog...</td>\n",
       "      <td>Wizard chess | Quidditch goalkeeping</td>\n",
       "      <td>1 March 1980</td>\n",
       "      <td>NaN</td>\n",
       "    </tr>\n",
       "    <tr>\n",
       "      <th>2</th>\n",
       "      <td>3</td>\n",
       "      <td>Hermione Jean Granger</td>\n",
       "      <td>Female</td>\n",
       "      <td>Student</td>\n",
       "      <td>Gryffindor</td>\n",
       "      <td>10¾\"  vine wood dragon heartstring</td>\n",
       "      <td>Otter</td>\n",
       "      <td>Human</td>\n",
       "      <td>Muggle-born</td>\n",
       "      <td>Brown</td>\n",
       "      <td>Brown</td>\n",
       "      <td>Dumbledore's Army | Order of the Phoenix | Hog...</td>\n",
       "      <td>Almost everything</td>\n",
       "      <td>19 September, 1979</td>\n",
       "      <td>NaN</td>\n",
       "    </tr>\n",
       "    <tr>\n",
       "      <th>3</th>\n",
       "      <td>4</td>\n",
       "      <td>Albus Percival Wulfric Brian Dumbledore</td>\n",
       "      <td>Male</td>\n",
       "      <td>Headmaster</td>\n",
       "      <td>Gryffindor</td>\n",
       "      <td>15\" Elder Thestral tail hair core</td>\n",
       "      <td>Phoenix</td>\n",
       "      <td>Human</td>\n",
       "      <td>Half-blood</td>\n",
       "      <td>Silver| formerly auburn</td>\n",
       "      <td>Blue</td>\n",
       "      <td>Dumbledore's Army | Order of the Phoenix | Hog...</td>\n",
       "      <td>Considered by many to be one of the most power...</td>\n",
       "      <td>Late August 1881</td>\n",
       "      <td>30 June, 1997</td>\n",
       "    </tr>\n",
       "    <tr>\n",
       "      <th>4</th>\n",
       "      <td>5</td>\n",
       "      <td>Rubeus Hagrid</td>\n",
       "      <td>Male</td>\n",
       "      <td>Keeper of Keys and Grounds | Professor of Care...</td>\n",
       "      <td>Gryffindor</td>\n",
       "      <td>16\"  Oak unknown core</td>\n",
       "      <td>None</td>\n",
       "      <td>Half-Human/Half-Giant</td>\n",
       "      <td>Part-Human (Half-giant)</td>\n",
       "      <td>Black</td>\n",
       "      <td>Black</td>\n",
       "      <td>Albus Dumbledore | Order of the Phoenix | Hogw...</td>\n",
       "      <td>Resistant to stunning spells| above average st...</td>\n",
       "      <td>6 December 1928</td>\n",
       "      <td>NaN</td>\n",
       "    </tr>\n",
       "  </tbody>\n",
       "</table>\n",
       "</div>"
      ],
      "text/plain": [
       "   ﻿Id                                     Name  Gender  \\\n",
       "0    1                       Harry James Potter    Male   \n",
       "1    2                    Ronald Bilius Weasley    Male   \n",
       "2    3                    Hermione Jean Granger  Female   \n",
       "3    4  Albus Percival Wulfric Brian Dumbledore    Male   \n",
       "4    5                            Rubeus Hagrid    Male   \n",
       "\n",
       "                                                 Job       House  \\\n",
       "0                                            Student  Gryffindor   \n",
       "1                                            Student  Gryffindor   \n",
       "2                                            Student  Gryffindor   \n",
       "3                                         Headmaster  Gryffindor   \n",
       "4  Keeper of Keys and Grounds | Professor of Care...  Gryffindor   \n",
       "\n",
       "                                 Wand              Patronus  \\\n",
       "0         11\"  Holly  phoenix feather                  Stag   \n",
       "1          12\" Ash unicorn tail hair   Jack Russell terrier   \n",
       "2  10¾\"  vine wood dragon heartstring                 Otter   \n",
       "3   15\" Elder Thestral tail hair core               Phoenix   \n",
       "4               16\"  Oak unknown core                  None   \n",
       "\n",
       "                 Species             Blood status              Hair colour  \\\n",
       "0                  Human               Half-blood                    Black   \n",
       "1                  Human               Pure-blood                      Red   \n",
       "2                  Human              Muggle-born                    Brown   \n",
       "3                  Human               Half-blood  Silver| formerly auburn   \n",
       "4  Half-Human/Half-Giant  Part-Human (Half-giant)                    Black   \n",
       "\n",
       "     Eye colour                                            Loyalty  \\\n",
       "0  Bright green  Albus Dumbledore | Dumbledore's Army | Order o...   \n",
       "1          Blue  Dumbledore's Army | Order of the Phoenix | Hog...   \n",
       "2         Brown  Dumbledore's Army | Order of the Phoenix | Hog...   \n",
       "3          Blue  Dumbledore's Army | Order of the Phoenix | Hog...   \n",
       "4         Black  Albus Dumbledore | Order of the Phoenix | Hogw...   \n",
       "\n",
       "                                              Skills               Birth  \\\n",
       "0  Parseltongue| Defence Against the Dark Arts | ...        31 July 1980   \n",
       "1               Wizard chess | Quidditch goalkeeping        1 March 1980   \n",
       "2                                  Almost everything  19 September, 1979   \n",
       "3  Considered by many to be one of the most power...    Late August 1881   \n",
       "4  Resistant to stunning spells| above average st...     6 December 1928   \n",
       "\n",
       "            Death  \n",
       "0             NaN  \n",
       "1             NaN  \n",
       "2             NaN  \n",
       "3  30 June, 1997   \n",
       "4             NaN  "
      ]
     },
     "execution_count": 14,
     "metadata": {},
     "output_type": "execute_result"
    }
   ],
   "source": [
    "df_characters.head()"
   ]
  },
  {
   "cell_type": "markdown",
   "metadata": {},
   "source": [
    "### Harry Potter 1 csv overview\n",
    "Contains the scripts/dialogues for each of the characters in the first movie.<br>\n",
    "Dialogues are in the order they appear in the movie."
   ]
  },
  {
   "cell_type": "code",
   "execution_count": 35,
   "metadata": {},
   "outputs": [
    {
     "data": {
      "text/html": [
       "<div>\n",
       "<style scoped>\n",
       "    .dataframe tbody tr th:only-of-type {\n",
       "        vertical-align: middle;\n",
       "    }\n",
       "\n",
       "    .dataframe tbody tr th {\n",
       "        vertical-align: top;\n",
       "    }\n",
       "\n",
       "    .dataframe thead th {\n",
       "        text-align: right;\n",
       "    }\n",
       "</style>\n",
       "<table border=\"1\" class=\"dataframe\">\n",
       "  <thead>\n",
       "    <tr style=\"text-align: right;\">\n",
       "      <th></th>\n",
       "      <th>﻿Character</th>\n",
       "      <th>Sentence</th>\n",
       "    </tr>\n",
       "  </thead>\n",
       "  <tbody>\n",
       "    <tr>\n",
       "      <th>0</th>\n",
       "      <td>Dumbledore</td>\n",
       "      <td>I should've known that you would be here, Prof...</td>\n",
       "    </tr>\n",
       "    <tr>\n",
       "      <th>1</th>\n",
       "      <td>McGonagall</td>\n",
       "      <td>Good evening, Professor Dumbledore.</td>\n",
       "    </tr>\n",
       "    <tr>\n",
       "      <th>2</th>\n",
       "      <td>McGonagall</td>\n",
       "      <td>Are the rumors true, Albus?</td>\n",
       "    </tr>\n",
       "    <tr>\n",
       "      <th>3</th>\n",
       "      <td>Dumbledore</td>\n",
       "      <td>I'm afraid so, professor.</td>\n",
       "    </tr>\n",
       "    <tr>\n",
       "      <th>4</th>\n",
       "      <td>Dumbledore</td>\n",
       "      <td>The good and the bad.</td>\n",
       "    </tr>\n",
       "  </tbody>\n",
       "</table>\n",
       "</div>"
      ],
      "text/plain": [
       "   ﻿Character                                           Sentence\n",
       "0  Dumbledore  I should've known that you would be here, Prof...\n",
       "1  McGonagall                Good evening, Professor Dumbledore.\n",
       "2  McGonagall                        Are the rumors true, Albus?\n",
       "3  Dumbledore                          I'm afraid so, professor.\n",
       "4  Dumbledore                              The good and the bad."
      ]
     },
     "execution_count": 35,
     "metadata": {},
     "output_type": "execute_result"
    }
   ],
   "source": [
    "# Top 5 rows harrypotter1\n",
    "\n",
    "df_harrypotter1.head(5)"
   ]
  },
  {
   "cell_type": "markdown",
   "metadata": {},
   "source": [
    "### Harry Potter 2 csv overview"
   ]
  },
  {
   "cell_type": "code",
   "execution_count": 46,
   "metadata": {},
   "outputs": [
    {
     "data": {
      "text/html": [
       "<div>\n",
       "<style scoped>\n",
       "    .dataframe tbody tr th:only-of-type {\n",
       "        vertical-align: middle;\n",
       "    }\n",
       "\n",
       "    .dataframe tbody tr th {\n",
       "        vertical-align: top;\n",
       "    }\n",
       "\n",
       "    .dataframe thead th {\n",
       "        text-align: right;\n",
       "    }\n",
       "</style>\n",
       "<table border=\"1\" class=\"dataframe\">\n",
       "  <thead>\n",
       "    <tr style=\"text-align: right;\">\n",
       "      <th></th>\n",
       "      <th>﻿Character</th>\n",
       "      <th>Sentence</th>\n",
       "    </tr>\n",
       "  </thead>\n",
       "  <tbody>\n",
       "    <tr>\n",
       "      <th>0</th>\n",
       "      <td>HARRY</td>\n",
       "      <td>I can’t let you out, Hedwig.</td>\n",
       "    </tr>\n",
       "    <tr>\n",
       "      <th>1</th>\n",
       "      <td>HARRY</td>\n",
       "      <td>I’m not allowed to use magic outside of school.</td>\n",
       "    </tr>\n",
       "    <tr>\n",
       "      <th>2</th>\n",
       "      <td>HARRY</td>\n",
       "      <td>Besides, if Uncle Vernon…</td>\n",
       "    </tr>\n",
       "    <tr>\n",
       "      <th>3</th>\n",
       "      <td>VERNON</td>\n",
       "      <td>Harry Potter!</td>\n",
       "    </tr>\n",
       "    <tr>\n",
       "      <th>4</th>\n",
       "      <td>HARRY</td>\n",
       "      <td>Now you’ve done it.</td>\n",
       "    </tr>\n",
       "  </tbody>\n",
       "</table>\n",
       "</div>"
      ],
      "text/plain": [
       "  ﻿Character                                          Sentence\n",
       "0     HARRY                      I can’t let you out, Hedwig. \n",
       "1     HARRY   I’m not allowed to use magic outside of school. \n",
       "2     HARRY                          Besides, if Uncle Vernon…\n",
       "3     VERNON                                     Harry Potter!\n",
       "4      HARRY                               Now you’ve done it."
      ]
     },
     "execution_count": 46,
     "metadata": {},
     "output_type": "execute_result"
    }
   ],
   "source": [
    "# Top 5 rows harrypotter2\n",
    "\n",
    "df_harrypotter2.head(5)"
   ]
  },
  {
   "cell_type": "markdown",
   "metadata": {},
   "source": [
    "### Harry Potter 3 csv overview"
   ]
  },
  {
   "cell_type": "code",
   "execution_count": 47,
   "metadata": {},
   "outputs": [
    {
     "data": {
      "text/html": [
       "<div>\n",
       "<style scoped>\n",
       "    .dataframe tbody tr th:only-of-type {\n",
       "        vertical-align: middle;\n",
       "    }\n",
       "\n",
       "    .dataframe tbody tr th {\n",
       "        vertical-align: top;\n",
       "    }\n",
       "\n",
       "    .dataframe thead th {\n",
       "        text-align: right;\n",
       "    }\n",
       "</style>\n",
       "<table border=\"1\" class=\"dataframe\">\n",
       "  <thead>\n",
       "    <tr style=\"text-align: right;\">\n",
       "      <th></th>\n",
       "      <th>﻿CHARACTER</th>\n",
       "      <th>SENTENCE</th>\n",
       "    </tr>\n",
       "  </thead>\n",
       "  <tbody>\n",
       "    <tr>\n",
       "      <th>0</th>\n",
       "      <td>HARRY</td>\n",
       "      <td>Lumos Maxima...</td>\n",
       "    </tr>\n",
       "    <tr>\n",
       "      <th>1</th>\n",
       "      <td>HARRY</td>\n",
       "      <td>Lumos Maxima...</td>\n",
       "    </tr>\n",
       "    <tr>\n",
       "      <th>2</th>\n",
       "      <td>HARRY</td>\n",
       "      <td>Lumos Maxima...</td>\n",
       "    </tr>\n",
       "    <tr>\n",
       "      <th>3</th>\n",
       "      <td>HARRY</td>\n",
       "      <td>Lumos... MAXIMA!</td>\n",
       "    </tr>\n",
       "    <tr>\n",
       "      <th>4</th>\n",
       "      <td>AUNT PETUNIA</td>\n",
       "      <td>Harry! Harry!</td>\n",
       "    </tr>\n",
       "  </tbody>\n",
       "</table>\n",
       "</div>"
      ],
      "text/plain": [
       "     ﻿CHARACTER          SENTENCE\n",
       "0         HARRY   Lumos Maxima...\n",
       "1         HARRY   Lumos Maxima...\n",
       "2         HARRY   Lumos Maxima...\n",
       "3         HARRY  Lumos... MAXIMA!\n",
       "4  AUNT PETUNIA     Harry! Harry!"
      ]
     },
     "execution_count": 47,
     "metadata": {},
     "output_type": "execute_result"
    }
   ],
   "source": [
    "# Top 5 rows harrypotter2\n",
    "\n",
    "df_harrypotter3.head(5)"
   ]
  },
  {
   "cell_type": "markdown",
   "metadata": {},
   "source": [
    "### Potions csv overview\n",
    "Name, ingredients, effect, characteristics like color or how it looks, difficulty level."
   ]
  },
  {
   "cell_type": "code",
   "execution_count": 49,
   "metadata": {},
   "outputs": [
    {
     "data": {
      "text/html": [
       "<div>\n",
       "<style scoped>\n",
       "    .dataframe tbody tr th:only-of-type {\n",
       "        vertical-align: middle;\n",
       "    }\n",
       "\n",
       "    .dataframe tbody tr th {\n",
       "        vertical-align: top;\n",
       "    }\n",
       "\n",
       "    .dataframe thead th {\n",
       "        text-align: right;\n",
       "    }\n",
       "</style>\n",
       "<table border=\"1\" class=\"dataframe\">\n",
       "  <thead>\n",
       "    <tr style=\"text-align: right;\">\n",
       "      <th></th>\n",
       "      <th>﻿Name</th>\n",
       "      <th>Known ingredients</th>\n",
       "      <th>Effect</th>\n",
       "      <th>Characteristics</th>\n",
       "      <th>Difficulty level</th>\n",
       "    </tr>\n",
       "  </thead>\n",
       "  <tbody>\n",
       "    <tr>\n",
       "      <th>0</th>\n",
       "      <td>Ageing Potion</td>\n",
       "      <td>Newt spleens , Bananas</td>\n",
       "      <td>Ages drinker temporarily</td>\n",
       "      <td>Green</td>\n",
       "      <td>Advanced</td>\n",
       "    </tr>\n",
       "    <tr>\n",
       "      <th>1</th>\n",
       "      <td>Amortentia</td>\n",
       "      <td>NaN</td>\n",
       "      <td>Love Potion that causes a powerful infatuation...</td>\n",
       "      <td>Mother-of-pearl sheen, Spiralling steam, Scent...</td>\n",
       "      <td>Advanced</td>\n",
       "    </tr>\n",
       "    <tr>\n",
       "      <th>2</th>\n",
       "      <td>Antidote to Veritaserum</td>\n",
       "      <td>NaN</td>\n",
       "      <td>Counters the effect of Veritaserum</td>\n",
       "      <td>NaN</td>\n",
       "      <td>NaN</td>\n",
       "    </tr>\n",
       "    <tr>\n",
       "      <th>3</th>\n",
       "      <td>Babbling Beverage</td>\n",
       "      <td>Valerian sprigs, Aconite, Dittany</td>\n",
       "      <td>Causes the drinker to speak nonsense</td>\n",
       "      <td>NaN</td>\n",
       "      <td>NaN</td>\n",
       "    </tr>\n",
       "    <tr>\n",
       "      <th>4</th>\n",
       "      <td>Baruffio's Brain Elixir</td>\n",
       "      <td>Leaping Toadstools, Frog Brains, Runespoor egg...</td>\n",
       "      <td>Allegedly increases one's brain power</td>\n",
       "      <td>Green in colour</td>\n",
       "      <td>NaN</td>\n",
       "    </tr>\n",
       "  </tbody>\n",
       "</table>\n",
       "</div>"
      ],
      "text/plain": [
       "                     ﻿Name                                  Known ingredients  \\\n",
       "0            Ageing Potion                             Newt spleens , Bananas   \n",
       "1               Amortentia                                                NaN   \n",
       "2  Antidote to Veritaserum                                                NaN   \n",
       "3        Babbling Beverage                  Valerian sprigs, Aconite, Dittany   \n",
       "4  Baruffio's Brain Elixir  Leaping Toadstools, Frog Brains, Runespoor egg...   \n",
       "\n",
       "                                              Effect  \\\n",
       "0                           Ages drinker temporarily   \n",
       "1  Love Potion that causes a powerful infatuation...   \n",
       "2                 Counters the effect of Veritaserum   \n",
       "3               Causes the drinker to speak nonsense   \n",
       "4              Allegedly increases one's brain power   \n",
       "\n",
       "                                     Characteristics Difficulty level  \n",
       "0                                              Green         Advanced  \n",
       "1  Mother-of-pearl sheen, Spiralling steam, Scent...         Advanced  \n",
       "2                                                NaN              NaN  \n",
       "3                                                NaN              NaN  \n",
       "4                                    Green in colour              NaN  "
      ]
     },
     "execution_count": 49,
     "metadata": {},
     "output_type": "execute_result"
    }
   ],
   "source": [
    "# Top 5 rows potions\n",
    "\n",
    "df_potions.head(5)"
   ]
  },
  {
   "cell_type": "markdown",
   "metadata": {},
   "source": [
    "### Spells csv overview\n",
    "Name of spell, incantation (words they say to do the spell), type of spell, effect of it and light color of the spell."
   ]
  },
  {
   "cell_type": "code",
   "execution_count": 58,
   "metadata": {},
   "outputs": [
    {
     "data": {
      "text/html": [
       "<div>\n",
       "<style scoped>\n",
       "    .dataframe tbody tr th:only-of-type {\n",
       "        vertical-align: middle;\n",
       "    }\n",
       "\n",
       "    .dataframe tbody tr th {\n",
       "        vertical-align: top;\n",
       "    }\n",
       "\n",
       "    .dataframe thead th {\n",
       "        text-align: right;\n",
       "    }\n",
       "</style>\n",
       "<table border=\"1\" class=\"dataframe\">\n",
       "  <thead>\n",
       "    <tr style=\"text-align: right;\">\n",
       "      <th></th>\n",
       "      <th>﻿Name</th>\n",
       "      <th>Incantation</th>\n",
       "      <th>Type</th>\n",
       "      <th>Effect</th>\n",
       "      <th>Light</th>\n",
       "    </tr>\n",
       "  </thead>\n",
       "  <tbody>\n",
       "    <tr>\n",
       "      <th>0</th>\n",
       "      <td>Summoning Charm</td>\n",
       "      <td>Accio</td>\n",
       "      <td>Charm</td>\n",
       "      <td>Summons an object</td>\n",
       "      <td>None</td>\n",
       "    </tr>\n",
       "    <tr>\n",
       "      <th>1</th>\n",
       "      <td>Age Line</td>\n",
       "      <td>Unknown</td>\n",
       "      <td>Charm</td>\n",
       "      <td>Prevents people above or below a certain age f...</td>\n",
       "      <td>Blue</td>\n",
       "    </tr>\n",
       "    <tr>\n",
       "      <th>2</th>\n",
       "      <td>Water-Making Spell</td>\n",
       "      <td>Aguamenti</td>\n",
       "      <td>Charm, Conjuration</td>\n",
       "      <td>Conjures water</td>\n",
       "      <td>Icy blue</td>\n",
       "    </tr>\n",
       "    <tr>\n",
       "      <th>3</th>\n",
       "      <td>Launch an object up into the air</td>\n",
       "      <td>Alarte Ascendare</td>\n",
       "      <td>Charm</td>\n",
       "      <td>Rockets target upward</td>\n",
       "      <td>Red</td>\n",
       "    </tr>\n",
       "    <tr>\n",
       "      <th>4</th>\n",
       "      <td>Albus Dumbledore's Forceful Spell</td>\n",
       "      <td>Unknown</td>\n",
       "      <td>Spell</td>\n",
       "      <td>Great Force</td>\n",
       "      <td>None</td>\n",
       "    </tr>\n",
       "  </tbody>\n",
       "</table>\n",
       "</div>"
      ],
      "text/plain": [
       "                               ﻿Name       Incantation                Type  \\\n",
       "0                    Summoning Charm             Accio               Charm   \n",
       "1                           Age Line           Unknown               Charm   \n",
       "2                 Water-Making Spell         Aguamenti  Charm, Conjuration   \n",
       "3   Launch an object up into the air  Alarte Ascendare               Charm   \n",
       "4  Albus Dumbledore's Forceful Spell           Unknown               Spell   \n",
       "\n",
       "                                              Effect     Light  \n",
       "0                                  Summons an object      None  \n",
       "1  Prevents people above or below a certain age f...      Blue  \n",
       "2                                     Conjures water  Icy blue  \n",
       "3                              Rockets target upward       Red  \n",
       "4                                        Great Force      None  "
      ]
     },
     "execution_count": 58,
     "metadata": {},
     "output_type": "execute_result"
    }
   ],
   "source": [
    "# Top 5 rows spells\n",
    "\n",
    "df_spells.head(5)"
   ]
  },
  {
   "cell_type": "markdown",
   "metadata": {},
   "source": [
    "# Character insights\n",
    "1. Male vs Female characters<br>\n",
    "    1.1 Anything missing in column?<br>\n",
    "    1.2 Amount of males vs amount of females<br>\n",
    "    1.3 Distribution of patronus per gender<br>\n",
    "    1.4 Blood status distribution per gender\n",
    "2. Patronus:<br>\n",
    "    2.1 Most common<br>\n",
    "    2.2 Any characters with the same patronus?<br>\n",
    "3. House analysis<br>\n",
    "    3.1 Is there a common loyalty between members of the same house?<br>\n",
    "    3.2 Characters from one house have loyalty to a completely different character than most of their houses?<br>\n",
    "    3.3 Any special/common skills depending on the house?<br>\n",
    "4. Deaths<br>\n",
    "    4.1 Any common deaths between characters depending on house/loyalty/gender/job"
   ]
  },
  {
   "cell_type": "markdown",
   "metadata": {},
   "source": [
    "### Male vs Female characters<br>\n",
    "Anything missing in column?"
   ]
  },
  {
   "cell_type": "code",
   "execution_count": 69,
   "metadata": {},
   "outputs": [
    {
     "data": {
      "text/html": [
       "<div>\n",
       "<style scoped>\n",
       "    .dataframe tbody tr th:only-of-type {\n",
       "        vertical-align: middle;\n",
       "    }\n",
       "\n",
       "    .dataframe tbody tr th {\n",
       "        vertical-align: top;\n",
       "    }\n",
       "\n",
       "    .dataframe thead th {\n",
       "        text-align: right;\n",
       "    }\n",
       "</style>\n",
       "<table border=\"1\" class=\"dataframe\">\n",
       "  <thead>\n",
       "    <tr style=\"text-align: right;\">\n",
       "      <th></th>\n",
       "      <th>﻿Id</th>\n",
       "      <th>Name</th>\n",
       "      <th>Gender</th>\n",
       "      <th>Job</th>\n",
       "      <th>House</th>\n",
       "      <th>Wand</th>\n",
       "      <th>Patronus</th>\n",
       "      <th>Species</th>\n",
       "      <th>Blood status</th>\n",
       "      <th>Hair colour</th>\n",
       "      <th>Eye colour</th>\n",
       "      <th>Loyalty</th>\n",
       "      <th>Skills</th>\n",
       "      <th>Birth</th>\n",
       "      <th>Death</th>\n",
       "    </tr>\n",
       "  </thead>\n",
       "  <tbody>\n",
       "    <tr>\n",
       "      <th>0</th>\n",
       "      <td>1</td>\n",
       "      <td>Harry James Potter</td>\n",
       "      <td>Male</td>\n",
       "      <td>Student</td>\n",
       "      <td>Gryffindor</td>\n",
       "      <td>11\"  Holly  phoenix feather</td>\n",
       "      <td>Stag</td>\n",
       "      <td>Human</td>\n",
       "      <td>Half-blood</td>\n",
       "      <td>Black</td>\n",
       "      <td>Bright green</td>\n",
       "      <td>Albus Dumbledore | Dumbledore's Army | Order o...</td>\n",
       "      <td>Parseltongue| Defence Against the Dark Arts | ...</td>\n",
       "      <td>31 July 1980</td>\n",
       "      <td>NaN</td>\n",
       "    </tr>\n",
       "  </tbody>\n",
       "</table>\n",
       "</div>"
      ],
      "text/plain": [
       "   ﻿Id                Name Gender      Job       House  \\\n",
       "0    1  Harry James Potter   Male  Student  Gryffindor   \n",
       "\n",
       "                          Wand Patronus Species Blood status Hair colour  \\\n",
       "0  11\"  Holly  phoenix feather     Stag   Human   Half-blood       Black   \n",
       "\n",
       "     Eye colour                                            Loyalty  \\\n",
       "0  Bright green  Albus Dumbledore | Dumbledore's Army | Order o...   \n",
       "\n",
       "                                              Skills         Birth Death  \n",
       "0  Parseltongue| Defence Against the Dark Arts | ...  31 July 1980   NaN  "
      ]
     },
     "execution_count": 69,
     "metadata": {},
     "output_type": "execute_result"
    }
   ],
   "source": [
    "# Character columns\n",
    "\n",
    "df_characters.iloc[[0]]"
   ]
  },
  {
   "cell_type": "code",
   "execution_count": 77,
   "metadata": {},
   "outputs": [
    {
     "name": "stdout",
     "output_type": "stream",
     "text": [
      "['Male' 'Female' nan]\n"
     ]
    }
   ],
   "source": [
    "# Character genders\n",
    "\n",
    "print(df_characters.Gender.unique())"
   ]
  },
  {
   "cell_type": "code",
   "execution_count": 89,
   "metadata": {},
   "outputs": [
    {
     "data": {
      "text/html": [
       "<div>\n",
       "<style scoped>\n",
       "    .dataframe tbody tr th:only-of-type {\n",
       "        vertical-align: middle;\n",
       "    }\n",
       "\n",
       "    .dataframe tbody tr th {\n",
       "        vertical-align: top;\n",
       "    }\n",
       "\n",
       "    .dataframe thead th {\n",
       "        text-align: right;\n",
       "    }\n",
       "</style>\n",
       "<table border=\"1\" class=\"dataframe\">\n",
       "  <thead>\n",
       "    <tr style=\"text-align: right;\">\n",
       "      <th></th>\n",
       "      <th>Name</th>\n",
       "      <th>Gender</th>\n",
       "    </tr>\n",
       "  </thead>\n",
       "  <tbody>\n",
       "    <tr>\n",
       "      <th>51</th>\n",
       "      <td>Horace Eugene Flaccus Slughorn</td>\n",
       "      <td>NaN</td>\n",
       "    </tr>\n",
       "  </tbody>\n",
       "</table>\n",
       "</div>"
      ],
      "text/plain": [
       "                              Name Gender\n",
       "51  Horace Eugene Flaccus Slughorn    NaN"
      ]
     },
     "execution_count": 89,
     "metadata": {},
     "output_type": "execute_result"
    }
   ],
   "source": [
    "# Only character with no gender -> Horace Slughorn\n",
    "# I lloked for the gender in google, the character's gender is male, this was just a mistake\n",
    "\n",
    "df_characters.loc[(df_characters.Gender != 'Male') & (df_characters.Gender != 'Female')][['Name', 'Gender']]"
   ]
  },
  {
   "cell_type": "code",
   "execution_count": 95,
   "metadata": {},
   "outputs": [],
   "source": [
    "# Assign Male to Horace Slughorn to correct mistake (Value Nan)\n",
    "\n",
    "df_characters.at[51, 'Gender'] = 'Male'"
   ]
  },
  {
   "cell_type": "code",
   "execution_count": 102,
   "metadata": {},
   "outputs": [
    {
     "data": {
      "text/html": [
       "<div>\n",
       "<style scoped>\n",
       "    .dataframe tbody tr th:only-of-type {\n",
       "        vertical-align: middle;\n",
       "    }\n",
       "\n",
       "    .dataframe tbody tr th {\n",
       "        vertical-align: top;\n",
       "    }\n",
       "\n",
       "    .dataframe thead th {\n",
       "        text-align: right;\n",
       "    }\n",
       "</style>\n",
       "<table border=\"1\" class=\"dataframe\">\n",
       "  <thead>\n",
       "    <tr style=\"text-align: right;\">\n",
       "      <th></th>\n",
       "      <th>Name</th>\n",
       "      <th>Gender</th>\n",
       "    </tr>\n",
       "  </thead>\n",
       "  <tbody>\n",
       "    <tr>\n",
       "      <th>51</th>\n",
       "      <td>Horace Eugene Flaccus Slughorn</td>\n",
       "      <td>Male</td>\n",
       "    </tr>\n",
       "  </tbody>\n",
       "</table>\n",
       "</div>"
      ],
      "text/plain": [
       "                              Name Gender\n",
       "51  Horace Eugene Flaccus Slughorn   Male"
      ]
     },
     "execution_count": 102,
     "metadata": {},
     "output_type": "execute_result"
    }
   ],
   "source": [
    "# Horace Slughorn gender corrected\n",
    "\n",
    "df_characters.iloc[[51]][['Name', 'Gender']]"
   ]
  },
  {
   "cell_type": "markdown",
   "metadata": {},
   "source": [
    "### Count males vs females"
   ]
  },
  {
   "cell_type": "code",
   "execution_count": 106,
   "metadata": {},
   "outputs": [
    {
     "data": {
      "text/plain": [
       "Male      91\n",
       "Female    49\n",
       "Name: Gender, dtype: int64"
      ]
     },
     "execution_count": 106,
     "metadata": {},
     "output_type": "execute_result"
    }
   ],
   "source": [
    "# Count male vs female\n",
    "\n",
    "df_characters['Gender'].value_counts()"
   ]
  },
  {
   "cell_type": "code",
   "execution_count": 109,
   "metadata": {},
   "outputs": [
    {
     "data": {
      "text/plain": [
       "<seaborn.axisgrid.FacetGrid at 0x2af0bcb2eb0>"
      ]
     },
     "execution_count": 109,
     "metadata": {},
     "output_type": "execute_result"
    },
    {
     "data": {
      "image/png": "[encoded data removed]",
      "text/plain": [
       "<Figure size 360x360 with 1 Axes>"
      ]
     },
     "metadata": {},
     "output_type": "display_data"
    }
   ],
   "source": [
    "# filt_notnull = df['to_salary'].notnull()\n",
    "\n",
    "# filt_hourly = df['yearly_hourly'] == 'hour'\n",
    "\n",
    "# graph_outliers = df.loc[filt_notnull & filt_hourly, 'to_salary']\n",
    "\n",
    "# fig, ax = plt.subplots(figsize=(10, 6))\n",
    "# sns.distplot(graph_outliers)\n",
    "\n",
    "\n",
    "# fig, ax = plt.subplots(figsize=(10, 6))\n",
    "sns.displot(df_characters['Gender'])\n"
   ]
  },
  {
   "cell_type": "code",
   "execution_count": 240,
   "metadata": {},
   "outputs": [],
   "source": [
    "# Getting values out of value_counts function for Patronus\n",
    "\n",
    "patronus_valuecount = df_characters['Patronus'].value_counts()\n",
    "\n",
    "label_values_patronus = patronus_valuecount.index.to_list()\n",
    "\n",
    "count_values_patronus = patronus_valuecount.to_list()"
   ]
  },
  {
   "cell_type": "code",
   "execution_count": 242,
   "metadata": {},
   "outputs": [
    {
     "name": "stdout",
     "output_type": "stream",
     "text": [
      "Unknown                 75\n",
      "Non-corporeal           28\n",
      "None                     7\n",
      "Stag                     2\n",
      "Doe                      2\n",
      "Cat                      2\n",
      "Swan                     1\n",
      "Lynx                     1\n",
      "Boar                     1\n",
      "Jack rabbit, Wolf        1\n",
      "Squirrel                 1\n",
      "Hare                     1\n",
      "Wolf                     1\n",
      "Weasel                   1\n",
      "Jack Russell terrier     1\n",
      "Fox                      1\n",
      "Horse                    1\n",
      "Phoenix                  1\n",
      "Otter                    1\n",
      "Goat                     1\n",
      "Name: Patronus, dtype: int64\n"
     ]
    }
   ],
   "source": [
    "print(patronus_valuecount)"
   ]
  },
  {
   "cell_type": "code",
   "execution_count": 254,
   "metadata": {},
   "outputs": [
    {
     "data": {
      "text/plain": [
       "<seaborn.axisgrid.FacetGrid at 0x2af28f26580>"
      ]
     },
     "execution_count": 254,
     "metadata": {},
     "output_type": "execute_result"
    },
    {
     "data": {
      "image/png": "[encoded data removed]",
      "text/plain": [
       "<Figure size 864x576 with 1 Axes>"
      ]
     },
     "metadata": {},
     "output_type": "display_data"
    }
   ],
   "source": [
    "# Distribution plot for Patronus\n",
    "# Couldn't find a way of showing the y column legends/values\n",
    "\n",
    "patronus_displot = sns.displot(df_characters['Patronus'], height=8, aspect=1.5, legend= True)\n",
    "\n",
    "patronus_displot.set_xticklabels(rotation= 90)\n",
    "\n"
   ]
  }
 ],
 "metadata": {
  "kernelspec": {
   "display_name": "Python 3.9.7 ('base')",
   "language": "python",
   "name": "python3"
  },
  "language_info": {
   "codemirror_mode": {
    "name": "ipython",
    "version": 3
   },
   "file_extension": ".py",
   "mimetype": "text/x-python",
   "name": "python",
   "nbconvert_exporter": "python",
   "pygments_lexer": "ipython3",
   "version": "3.9.7"
  },
  "orig_nbformat": 4,
  "vscode": {
   "interpreter": {
    "hash": "9412b45e6a57aa9914730508726d49801d3b2c579f461e1fb13c705887a7b1f6"
   }
  }
 },
 "nbformat": 4,
 "nbformat_minor": 2
}
